{
  "nbformat": 4,
  "nbformat_minor": 0,
  "metadata": {
    "colab": {
      "name": "Stationary Final Jack_QC SGD Regressor.ipynb",
      "provenance": [],
      "collapsed_sections": [],
      "toc_visible": true
    },
    "kernelspec": {
      "name": "python3",
      "display_name": "Python 3"
    }
  },
  "cells": [
    {
      "cell_type": "code",
      "metadata": {
        "id": "afS9dVUQJCyn",
        "colab": {
          "base_uri": "https://localhost:8080/",
          "height": 34
        },
        "outputId": "80edd34f-2cd4-441c-9237-ed15ca33341c"
      },
      "source": [
        "# Mount my Google Drive to Collaboratory\n",
        "from google.colab import drive \n",
        "drive.mount('/content/gdrive')\n",
        "\n",
        "# Code to read csv file into Colaboratory:\n",
        "!pip install -U -q PyDrive\n",
        "from pydrive.auth import GoogleAuth\n",
        "from pydrive.drive import GoogleDrive\n",
        "from google.colab import auth\n",
        "from oauth2client.client import GoogleCredentials\n",
        "# Authenticate and create the PyDrive client.\n",
        "auth.authenticate_user()\n",
        "gauth = GoogleAuth()\n",
        "gauth.credentials = GoogleCredentials.get_application_default()\n",
        "drive = GoogleDrive(gauth)"
      ],
      "execution_count": null,
      "outputs": [
        {
          "output_type": "stream",
          "text": [
            "Drive already mounted at /content/gdrive; to attempt to forcibly remount, call drive.mount(\"/content/gdrive\", force_remount=True).\n"
          ],
          "name": "stdout"
        }
      ]
    },
    {
      "cell_type": "code",
      "metadata": {
        "id": "7d5Cg9-cn2vb"
      },
      "source": [
        "from google.colab import drive\n",
        "drive.mount('/content/drive')"
      ],
      "execution_count": null,
      "outputs": []
    },
    {
      "cell_type": "code",
      "metadata": {
        "id": "RMoYmxLMMc3N",
        "colab": {
          "base_uri": "https://localhost:8080/",
          "height": 195
        },
        "outputId": "f90a49da-4fc9-42a8-bb12-db73d0ff7681"
      },
      "source": [
        "# import packages\n",
        "import pandas as pd\n",
        "import numpy as np\n",
        "import seaborn as sns\n",
        "%matplotlib inline\n",
        "import matplotlib.pyplot as plt\n",
        "from matplotlib.pylab import rcParams\n",
        "rcParams['figure.figsize'] = 15, 6\n",
        "from pandas import concat\n",
        "\n",
        "from sklearn.model_selection import TimeSeriesSplit\n",
        "from sklearn.preprocessing import MinMaxScaler\n",
        "from sklearn.metrics import mean_absolute_error\n",
        "from sklearn.linear_model import SGDRegressor\n",
        "\n",
        "from IPython.display import display, HTML, display_html\n",
        "import calendar\n",
        "import datetime\n",
        "import math\n",
        "import pickle\n",
        "import holidays\n",
        "\n",
        "from google.colab import auth\n",
        "auth.authenticate_user()\n",
        "\n",
        "import gspread\n",
        "from oauth2client.client import GoogleCredentials\n",
        "\n",
        "gc = gspread.authorize(GoogleCredentials.get_application_default())\n",
        "\n",
        "worksheet = gc.open('Jack QC Dataset.csv').sheet1\n",
        "\n",
        "# get_all_values gives a list of rows.\n",
        "rows = worksheet.get_all_values()\n",
        "headers = rows.pop(0)\n",
        "\n",
        "df = pd.DataFrame(rows, columns=headers)\n",
        "df.head()"
      ],
      "execution_count": null,
      "outputs": [
        {
          "output_type": "execute_result",
          "data": {
            "text/html": [
              "<div>\n",
              "<style scoped>\n",
              "    .dataframe tbody tr th:only-of-type {\n",
              "        vertical-align: middle;\n",
              "    }\n",
              "\n",
              "    .dataframe tbody tr th {\n",
              "        vertical-align: top;\n",
              "    }\n",
              "\n",
              "    .dataframe thead th {\n",
              "        text-align: right;\n",
              "    }\n",
              "</style>\n",
              "<table border=\"1\" class=\"dataframe\">\n",
              "  <thead>\n",
              "    <tr style=\"text-align: right;\">\n",
              "      <th></th>\n",
              "      <th>Date</th>\n",
              "      <th>Total_Revenue</th>\n",
              "    </tr>\n",
              "  </thead>\n",
              "  <tbody>\n",
              "    <tr>\n",
              "      <th>0</th>\n",
              "      <td>2018-04-01</td>\n",
              "      <td>3885.88</td>\n",
              "    </tr>\n",
              "    <tr>\n",
              "      <th>1</th>\n",
              "      <td>2018-04-02</td>\n",
              "      <td>643.45</td>\n",
              "    </tr>\n",
              "    <tr>\n",
              "      <th>2</th>\n",
              "      <td>2018-04-03</td>\n",
              "      <td>370.94</td>\n",
              "    </tr>\n",
              "    <tr>\n",
              "      <th>3</th>\n",
              "      <td>2018-04-04</td>\n",
              "      <td>2624.68</td>\n",
              "    </tr>\n",
              "    <tr>\n",
              "      <th>4</th>\n",
              "      <td>2018-04-05</td>\n",
              "      <td>4393.24</td>\n",
              "    </tr>\n",
              "  </tbody>\n",
              "</table>\n",
              "</div>"
            ],
            "text/plain": [
              "         Date Total_Revenue\n",
              "0  2018-04-01       3885.88\n",
              "1  2018-04-02        643.45\n",
              "2  2018-04-03        370.94\n",
              "3  2018-04-04       2624.68\n",
              "4  2018-04-05       4393.24"
            ]
          },
          "metadata": {
            "tags": []
          },
          "execution_count": 2
        }
      ]
    },
    {
      "cell_type": "code",
      "metadata": {
        "id": "K2Wpn7S_ztRR",
        "colab": {
          "base_uri": "https://localhost:8080/",
          "height": 417
        },
        "outputId": "0ed2b9ac-e34a-4c62-e6d5-b8c79d225e61"
      },
      "source": [
        "# Cleansing and exploring:\n",
        "df=df.replace({'\\$': '', ',': '', ' ': ''}, regex=True)\n",
        "df['Total_Revenue']= df['Total_Revenue'].astype(float)\n",
        "# Make the Date column as a timestamps:\n",
        "df['Date'] = pd.to_datetime(df['Date'], dayfirst=True)\n",
        "df=df.set_index('Date')\n",
        "df.plot()"
      ],
      "execution_count": null,
      "outputs": [
        {
          "output_type": "execute_result",
          "data": {
            "text/plain": [
              "<matplotlib.axes._subplots.AxesSubplot at 0x7f07dbcc3470>"
            ]
          },
          "metadata": {
            "tags": []
          },
          "execution_count": 3
        },
        {
          "output_type": "display_data",
          "data": {
            "image/png": "[encoded data removed]",
            "text/plain": [
              "<Figure size 1080x432 with 1 Axes>"
            ]
          },
          "metadata": {
            "tags": []
          }
        }
      ]
    },
    {
      "cell_type": "code",
      "metadata": {
        "id": "coYJO7EWmoRb",
        "colab": {
          "base_uri": "https://localhost:8080/",
          "height": 34
        },
        "outputId": "15f5f51f-7b3b-4416-d60d-f182df2bf91b"
      },
      "source": [
        "df.isnull().values.any()"
      ],
      "execution_count": null,
      "outputs": [
        {
          "output_type": "execute_result",
          "data": {
            "text/plain": [
              "False"
            ]
          },
          "metadata": {
            "tags": []
          },
          "execution_count": 4
        }
      ]
    },
    {
      "cell_type": "code",
      "metadata": {
        "id": "EE2Id43L5Y_e",
        "colab": {
          "base_uri": "https://localhost:8080/",
          "height": 284
        },
        "outputId": "d1635876-26ac-490f-f161-d26ae0eb630e"
      },
      "source": [
        "df.describe()"
      ],
      "execution_count": null,
      "outputs": [
        {
          "output_type": "execute_result",
          "data": {
            "text/html": [
              "<div>\n",
              "<style scoped>\n",
              "    .dataframe tbody tr th:only-of-type {\n",
              "        vertical-align: middle;\n",
              "    }\n",
              "\n",
              "    .dataframe tbody tr th {\n",
              "        vertical-align: top;\n",
              "    }\n",
              "\n",
              "    .dataframe thead th {\n",
              "        text-align: right;\n",
              "    }\n",
              "</style>\n",
              "<table border=\"1\" class=\"dataframe\">\n",
              "  <thead>\n",
              "    <tr style=\"text-align: right;\">\n",
              "      <th></th>\n",
              "      <th>Total_Revenue</th>\n",
              "    </tr>\n",
              "  </thead>\n",
              "  <tbody>\n",
              "    <tr>\n",
              "      <th>count</th>\n",
              "      <td>596.000000</td>\n",
              "    </tr>\n",
              "    <tr>\n",
              "      <th>mean</th>\n",
              "      <td>3202.430302</td>\n",
              "    </tr>\n",
              "    <tr>\n",
              "      <th>std</th>\n",
              "      <td>2368.813315</td>\n",
              "    </tr>\n",
              "    <tr>\n",
              "      <th>min</th>\n",
              "      <td>0.000000</td>\n",
              "    </tr>\n",
              "    <tr>\n",
              "      <th>25%</th>\n",
              "      <td>1289.497500</td>\n",
              "    </tr>\n",
              "    <tr>\n",
              "      <th>50%</th>\n",
              "      <td>2652.120000</td>\n",
              "    </tr>\n",
              "    <tr>\n",
              "      <th>75%</th>\n",
              "      <td>4708.030000</td>\n",
              "    </tr>\n",
              "    <tr>\n",
              "      <th>max</th>\n",
              "      <td>14493.100000</td>\n",
              "    </tr>\n",
              "  </tbody>\n",
              "</table>\n",
              "</div>"
            ],
            "text/plain": [
              "       Total_Revenue\n",
              "count     596.000000\n",
              "mean     3202.430302\n",
              "std      2368.813315\n",
              "min         0.000000\n",
              "25%      1289.497500\n",
              "50%      2652.120000\n",
              "75%      4708.030000\n",
              "max     14493.100000"
            ]
          },
          "metadata": {
            "tags": []
          },
          "execution_count": 5
        }
      ]
    },
    {
      "cell_type": "markdown",
      "metadata": {
        "id": "yKJZX6fVzRSU"
      },
      "source": [
        "#  Time Series Features Engineering\n"
      ]
    },
    {
      "cell_type": "code",
      "metadata": {
        "id": "kbGP3_ZIy_Yx",
        "colab": {
          "base_uri": "https://localhost:8080/",
          "height": 1000
        },
        "outputId": "d1097d0a-3b4a-45b3-8d65-ebabb1677e2b"
      },
      "source": [
        "# parse the date column to 3 columns, year, month and day\n",
        "df=df.reset_index()\n",
        "df['Date']= pd.to_datetime(df['Date'])\n",
        "# Get the month from the date\n",
        "df['month'] = df['Date'].dt.month\n",
        "# Get the day of week name:\n",
        "df['dayofweek_name'] = df['Date'].dt.weekday_name\n",
        "df['dayofweek'] = df['Date'].dt.weekday\n",
        "print(df.tail(60))"
      ],
      "execution_count": null,
      "outputs": [
        {
          "output_type": "stream",
          "text": [
            "          Date  Total_Revenue  month dayofweek_name  dayofweek\n",
            "536 2019-09-19        2582.44      9       Thursday          3\n",
            "537 2019-09-20        4055.85      9         Friday          4\n",
            "538 2019-09-21        5899.15      9       Saturday          5\n",
            "539 2019-09-22        1288.44      9         Sunday          6\n",
            "540 2019-09-23        4991.60      9         Monday          0\n",
            "541 2019-09-24        2182.86      9        Tuesday          1\n",
            "542 2019-09-25        1235.38      9      Wednesday          2\n",
            "543 2019-09-26        4034.70      9       Thursday          3\n",
            "544 2019-09-27        4917.19      9         Friday          4\n",
            "545 2019-09-28        4986.45      9       Saturday          5\n",
            "546 2019-09-29        2158.52      9         Sunday          6\n",
            "547 2019-09-30        1902.21      9         Monday          0\n",
            "548 2019-10-01        1755.66     10        Tuesday          1\n",
            "549 2019-10-02        1323.14     10      Wednesday          2\n",
            "550 2019-10-03        1849.74     10       Thursday          3\n",
            "551 2019-10-04        4447.05     10         Friday          4\n",
            "552 2019-10-05        3556.12     10       Saturday          5\n",
            "553 2019-10-06        1189.87     10         Sunday          6\n",
            "554 2019-10-07        3972.98     10         Monday          0\n",
            "555 2019-10-08         731.13     10        Tuesday          1\n",
            "556 2019-10-09         562.22     10      Wednesday          2\n",
            "557 2019-10-10        3552.96     10       Thursday          3\n",
            "558 2019-10-11        5510.39     10         Friday          4\n",
            "559 2019-10-12        4145.28     10       Saturday          5\n",
            "560 2019-10-13        2322.34     10         Sunday          6\n",
            "561 2019-10-14        3564.55     10         Monday          0\n",
            "562 2019-10-15         717.34     10        Tuesday          1\n",
            "563 2019-10-16        2650.41     10      Wednesday          2\n",
            "564 2019-10-17        2709.51     10       Thursday          3\n",
            "565 2019-10-18        2796.35     10         Friday          4\n",
            "566 2019-10-19        4592.50     10       Saturday          5\n",
            "567 2019-10-20        1081.11     10         Sunday          6\n",
            "568 2019-10-21        1786.62     10         Monday          0\n",
            "569 2019-10-22        1180.66     10        Tuesday          1\n",
            "570 2019-10-23        2473.65     10      Wednesday          2\n",
            "571 2019-10-24        1411.91     10       Thursday          3\n",
            "572 2019-10-25        4980.75     10         Friday          4\n",
            "573 2019-10-26        4404.63     10       Saturday          5\n",
            "574 2019-10-27         800.46     10         Sunday          6\n",
            "575 2019-10-28        4510.00     10         Monday          0\n",
            "576 2019-10-29        1176.63     10        Tuesday          1\n",
            "577 2019-10-30        2800.48     10      Wednesday          2\n",
            "578 2019-10-31        2404.79     10       Thursday          3\n",
            "579 2019-11-01        5493.15     11         Friday          4\n",
            "580 2019-11-02        4000.44     11       Saturday          5\n",
            "581 2019-11-03         648.17     11         Sunday          6\n",
            "582 2019-11-04        1961.99     11         Monday          0\n",
            "583 2019-11-05         777.54     11        Tuesday          1\n",
            "584 2019-11-06        3951.61     11      Wednesday          2\n",
            "585 2019-11-07        2887.28     11       Thursday          3\n",
            "586 2019-11-08        4797.41     11         Friday          4\n",
            "587 2019-11-09        5308.92     11       Saturday          5\n",
            "588 2019-11-10         657.37     11         Sunday          6\n",
            "589 2019-11-11        1751.87     11         Monday          0\n",
            "590 2019-11-12         814.82     11        Tuesday          1\n",
            "591 2019-11-13        1310.66     11      Wednesday          2\n",
            "592 2019-11-14        1443.85     11       Thursday          3\n",
            "593 2019-11-15        3888.71     11         Friday          4\n",
            "594 2019-11-16        4451.17     11       Saturday          5\n",
            "595 2019-11-17         681.50     11         Sunday          6\n"
          ],
          "name": "stdout"
        }
      ]
    },
    {
      "cell_type": "markdown",
      "metadata": {
        "id": "pw1BeYjMVF6e"
      },
      "source": [
        "# Dealing with missing values:"
      ]
    },
    {
      "cell_type": "code",
      "metadata": {
        "id": "IfxRRX1P8pS8",
        "colab": {
          "base_uri": "https://localhost:8080/",
          "height": 185
        },
        "outputId": "2a16322b-546c-4cf3-bfbb-dd8007adf423"
      },
      "source": [
        "df = df.set_index('Date')\n",
        "# mark zero values as missing or NaN\n",
        "df['Total_Revenue'] = df['Total_Revenue'].replace(0, np.NaN)\n",
        "# count the number of NaN values in each column\n",
        "print(df.isnull().sum())\n",
        "# fill missing values with a value at the same day one week ago\n",
        "# df['Total_Revenue'] = df['Total_Revenue'].fillna(df['Total_Revenue'].shift(7))\n",
        "# Fill those nan values with the mean of all data at that day of week:\n",
        "df[\"Total_Revenue\"]= df.groupby(\"dayofweek_name\").transform(lambda x: x.fillna(x.mean())).astype(float)\n",
        "print(df.isnull().sum())"
      ],
      "execution_count": null,
      "outputs": [
        {
          "output_type": "stream",
          "text": [
            "Total_Revenue     9\n",
            "month             0\n",
            "dayofweek_name    0\n",
            "dayofweek         0\n",
            "dtype: int64\n",
            "Total_Revenue     0\n",
            "month             0\n",
            "dayofweek_name    0\n",
            "dayofweek         0\n",
            "dtype: int64\n"
          ],
          "name": "stdout"
        }
      ]
    },
    {
      "cell_type": "code",
      "metadata": {
        "id": "bUdQ1Ewd6L79",
        "colab": {
          "base_uri": "https://localhost:8080/",
          "height": 284
        },
        "outputId": "aaa08ba0-915b-421d-862a-438472da2b51"
      },
      "source": [
        "df.describe()"
      ],
      "execution_count": null,
      "outputs": [
        {
          "output_type": "execute_result",
          "data": {
            "text/html": [
              "<div>\n",
              "<style scoped>\n",
              "    .dataframe tbody tr th:only-of-type {\n",
              "        vertical-align: middle;\n",
              "    }\n",
              "\n",
              "    .dataframe tbody tr th {\n",
              "        vertical-align: top;\n",
              "    }\n",
              "\n",
              "    .dataframe thead th {\n",
              "        text-align: right;\n",
              "    }\n",
              "</style>\n",
              "<table border=\"1\" class=\"dataframe\">\n",
              "  <thead>\n",
              "    <tr style=\"text-align: right;\">\n",
              "      <th></th>\n",
              "      <th>Total_Revenue</th>\n",
              "      <th>month</th>\n",
              "      <th>dayofweek</th>\n",
              "    </tr>\n",
              "  </thead>\n",
              "  <tbody>\n",
              "    <tr>\n",
              "      <th>count</th>\n",
              "      <td>596.000000</td>\n",
              "      <td>596.000000</td>\n",
              "      <td>596.000000</td>\n",
              "    </tr>\n",
              "    <tr>\n",
              "      <th>mean</th>\n",
              "      <td>3249.052836</td>\n",
              "      <td>6.827181</td>\n",
              "      <td>3.005034</td>\n",
              "    </tr>\n",
              "    <tr>\n",
              "      <th>std</th>\n",
              "      <td>2340.147645</td>\n",
              "      <td>3.048405</td>\n",
              "      <td>2.003772</td>\n",
              "    </tr>\n",
              "    <tr>\n",
              "      <th>min</th>\n",
              "      <td>176.050000</td>\n",
              "      <td>1.000000</td>\n",
              "      <td>0.000000</td>\n",
              "    </tr>\n",
              "    <tr>\n",
              "      <th>25%</th>\n",
              "      <td>1326.087500</td>\n",
              "      <td>4.000000</td>\n",
              "      <td>1.000000</td>\n",
              "    </tr>\n",
              "    <tr>\n",
              "      <th>50%</th>\n",
              "      <td>2695.610000</td>\n",
              "      <td>7.000000</td>\n",
              "      <td>3.000000</td>\n",
              "    </tr>\n",
              "    <tr>\n",
              "      <th>75%</th>\n",
              "      <td>4754.765000</td>\n",
              "      <td>9.000000</td>\n",
              "      <td>5.000000</td>\n",
              "    </tr>\n",
              "    <tr>\n",
              "      <th>max</th>\n",
              "      <td>14493.100000</td>\n",
              "      <td>12.000000</td>\n",
              "      <td>6.000000</td>\n",
              "    </tr>\n",
              "  </tbody>\n",
              "</table>\n",
              "</div>"
            ],
            "text/plain": [
              "       Total_Revenue       month   dayofweek\n",
              "count     596.000000  596.000000  596.000000\n",
              "mean     3249.052836    6.827181    3.005034\n",
              "std      2340.147645    3.048405    2.003772\n",
              "min       176.050000    1.000000    0.000000\n",
              "25%      1326.087500    4.000000    1.000000\n",
              "50%      2695.610000    7.000000    3.000000\n",
              "75%      4754.765000    9.000000    5.000000\n",
              "max     14493.100000   12.000000    6.000000"
            ]
          },
          "metadata": {
            "tags": []
          },
          "execution_count": 8
        }
      ]
    },
    {
      "cell_type": "code",
      "metadata": {
        "id": "Ex5TVzGQiCtJ",
        "colab": {
          "base_uri": "https://localhost:8080/",
          "height": 229
        },
        "outputId": "841b6364-07ec-4f76-9d35-6317fbf3a9c1"
      },
      "source": [
        "df_diff=df['Total_Revenue'].diff()\n",
        "df_diff.plot(figsize=(20,10), linewidth=5, fontsize=20)\n",
        "plt.xlabel('Date', fontsize=20)"
      ],
      "execution_count": null,
      "outputs": [
        {
          "output_type": "error",
          "ename": "NameError",
          "evalue": "ignored",
          "traceback": [
            "\u001b[0;31m---------------------------------------------------------------------------\u001b[0m",
            "\u001b[0;31mNameError\u001b[0m                                 Traceback (most recent call last)",
            "\u001b[0;32m<ipython-input-9-061dba48e14b>\u001b[0m in \u001b[0;36m<module>\u001b[0;34m()\u001b[0m\n\u001b[1;32m      2\u001b[0m \u001b[0;31m# transform data to be stationary\u001b[0m\u001b[0;34m\u001b[0m\u001b[0;34m\u001b[0m\u001b[0;34m\u001b[0m\u001b[0m\n\u001b[1;32m      3\u001b[0m \u001b[0mraw_values\u001b[0m \u001b[0;34m=\u001b[0m \u001b[0mseries\u001b[0m\u001b[0;34m.\u001b[0m\u001b[0mvalues\u001b[0m\u001b[0;34m\u001b[0m\u001b[0;34m\u001b[0m\u001b[0m\n\u001b[0;32m----> 4\u001b[0;31m \u001b[0mdf_diff\u001b[0m \u001b[0;34m=\u001b[0m \u001b[0mdifference\u001b[0m\u001b[0;34m(\u001b[0m\u001b[0mraw_values\u001b[0m\u001b[0;34m,\u001b[0m \u001b[0;36m1\u001b[0m\u001b[0;34m)\u001b[0m\u001b[0;34m\u001b[0m\u001b[0;34m\u001b[0m\u001b[0m\n\u001b[0m\u001b[1;32m      5\u001b[0m \u001b[0mdf_diff\u001b[0m\u001b[0;34m.\u001b[0m\u001b[0mplot\u001b[0m\u001b[0;34m(\u001b[0m\u001b[0mfigsize\u001b[0m\u001b[0;34m=\u001b[0m\u001b[0;34m(\u001b[0m\u001b[0;36m20\u001b[0m\u001b[0;34m,\u001b[0m\u001b[0;36m10\u001b[0m\u001b[0;34m)\u001b[0m\u001b[0;34m,\u001b[0m \u001b[0mlinewidth\u001b[0m\u001b[0;34m=\u001b[0m\u001b[0;36m5\u001b[0m\u001b[0;34m,\u001b[0m \u001b[0mfontsize\u001b[0m\u001b[0;34m=\u001b[0m\u001b[0;36m20\u001b[0m\u001b[0;34m)\u001b[0m\u001b[0;34m\u001b[0m\u001b[0;34m\u001b[0m\u001b[0m\n\u001b[1;32m      6\u001b[0m \u001b[0mplt\u001b[0m\u001b[0;34m.\u001b[0m\u001b[0mxlabel\u001b[0m\u001b[0;34m(\u001b[0m\u001b[0;34m'Date'\u001b[0m\u001b[0;34m,\u001b[0m \u001b[0mfontsize\u001b[0m\u001b[0;34m=\u001b[0m\u001b[0;36m20\u001b[0m\u001b[0;34m)\u001b[0m\u001b[0;34m\u001b[0m\u001b[0;34m\u001b[0m\u001b[0m\n",
            "\u001b[0;31mNameError\u001b[0m: name 'difference' is not defined"
          ]
        }
      ]
    },
    {
      "cell_type": "code",
      "metadata": {
        "id": "esuZXk3sio1L"
      },
      "source": [
        "df_diff=df_diff.reset_index()\n",
        "df_diff['Date']= pd.to_datetime(df_diff['Date'])\n",
        "# Get the month from the date\n",
        "df_diff['month'] = df_diff['Date'].dt.month\n",
        "# Get the day of week name:\n",
        "df_diff['dayofweek_name'] = df_diff['Date'].dt.weekday_name\n",
        "df_diff['dayofweek'] = df_diff['Date'].dt.weekday"
      ],
      "execution_count": null,
      "outputs": []
    },
    {
      "cell_type": "markdown",
      "metadata": {
        "id": "xFGrAlTUMo-U"
      },
      "source": [
        "## Detecting the outliers for each month of the year:\n"
      ]
    },
    {
      "cell_type": "code",
      "metadata": {
        "id": "43KQcKLjhAI8"
      },
      "source": [
        "sns.boxplot(data=df_diff, x='month', y='Total_Revenue', whis=1.5)"
      ],
      "execution_count": null,
      "outputs": []
    },
    {
      "cell_type": "code",
      "metadata": {
        "id": "FqpxvxfkMlJm"
      },
      "source": [
        "monthofyear = [1, 2, 3, 4, 5, 6, 7, 8, 9, 10, 11, 12]\n",
        "all_filters_month = []\n",
        "def outliers_filter_month(month):\n",
        "  df_month=df_diff['Total_Revenue'][df_diff['month'] == month]\n",
        "  df_month= pd.Series(df_month).to_frame()\n",
        "\n",
        "  Q1 = df_month['Total_Revenue'].quantile(0.25)\n",
        "  Q3 = df_month['Total_Revenue'].quantile(0.75)\n",
        "  IQR = Q3 - Q1\n",
        "  month_filter = (df_month['Total_Revenue'] >= Q1 - 1.5 * IQR) & (df_month['Total_Revenue'] <= Q3 + 1.5 *IQR)\n",
        "  all_filters_month.append(month_filter)\n",
        "\n",
        "for m in monthofyear:\n",
        "    outliers_filter_month(m)"
      ],
      "execution_count": null,
      "outputs": []
    },
    {
      "cell_type": "markdown",
      "metadata": {
        "id": "kiTc_Px_OahD"
      },
      "source": [
        "## Detecting the outliers for each day of week:\n"
      ]
    },
    {
      "cell_type": "code",
      "metadata": {
        "id": "s1RfKTllhNVO"
      },
      "source": [
        "sns.boxplot(data = df_diff, x = 'dayofweek_name', y='Total_Revenue', whis=1.5)"
      ],
      "execution_count": null,
      "outputs": []
    },
    {
      "cell_type": "code",
      "metadata": {
        "id": "9fEQKn8G-DbE"
      },
      "source": [
        "dayofweek = ['Saturday', 'Sunday', 'Monday', 'Tuesday', 'Wednesday', 'Thursday', 'Friday']\n",
        "all_filters_day = []\n",
        "def outliers_filter(day):\n",
        "  df_day=df_diff['Total_Revenue'][df_diff['dayofweek_name'] == day]\n",
        "  df_day= pd.Series(df_day).to_frame()\n",
        "\n",
        "  Q1 = df_day['Total_Revenue'].quantile(0.25)\n",
        "  Q3 = df_day['Total_Revenue'].quantile(0.75)\n",
        "  IQR = Q3 - Q1\n",
        "  day_filter = (df_day['Total_Revenue'] >= Q1 - 1.5 * IQR) & (df_day['Total_Revenue'] <= Q3 + 1.5 *IQR)\n",
        "  all_filters_day.append(day_filter)\n",
        "\n",
        "for d in dayofweek:\n",
        "    outliers_filter(d)"
      ],
      "execution_count": null,
      "outputs": []
    },
    {
      "cell_type": "code",
      "metadata": {
        "id": "fo6V1F73PW6S"
      },
      "source": [
        "df_diff['outliers_filter_day'] =pd.concat(all_filters_day, axis=0, join='outer')\n",
        "df_diff['outliers_filter_month'] =pd.concat(all_filters_month, axis=0, join='outer')\n",
        "df_diff['outliers_filter'] =  (df_diff['outliers_filter_day']) & (df_diff['outliers_filter_month'])\n",
        "df_diff = df_diff.drop(df_diff[['outliers_filter_day', 'outliers_filter_month']], axis = 1)\n",
        "\n",
        "pd.set_option('display.max_columns', 10)\n",
        "pd.set_option('display.max_rows', 1000)\n",
        "print(df_diff)"
      ],
      "execution_count": null,
      "outputs": []
    },
    {
      "cell_type": "code",
      "metadata": {
        "id": "smRDa_DonI2l"
      },
      "source": [
        "df_outliers=df_diff['Total_Revenue'][df_diff['outliers_filter']== False]\n",
        "print(df_outliers.head(60))\n",
        "df_outliers.plot(marker = '*')"
      ],
      "execution_count": null,
      "outputs": []
    },
    {
      "cell_type": "markdown",
      "metadata": {
        "id": "uF-5RVP9lpxf"
      },
      "source": [
        "# Extract features:"
      ]
    },
    {
      "cell_type": "code",
      "metadata": {
        "id": "GfOQhVZW5gqj"
      },
      "source": [
        "df_diff = df_diff.reset_index()"
      ],
      "execution_count": null,
      "outputs": []
    },
    {
      "cell_type": "code",
      "metadata": {
        "id": "P8q2qoNzsY52"
      },
      "source": [
        "def addAvgToDF(days):\n",
        "  for index, row in df_diff.head(len(df_diff)).iterrows():\n",
        "    currentIndex = index\n",
        "    daysConsidered = 0\n",
        "    total = 0\n",
        "    while currentIndex > -1 and daysConsidered < days:\n",
        "      currentIndex = currentIndex - 7\n",
        "      if currentIndex > -1 and df_diff.iloc[currentIndex][\"outliers_filter\"]:\n",
        "        total += df_diff.iloc[currentIndex][\"Total_Revenue\"]\n",
        "        daysConsidered = daysConsidered+1\n",
        "\n",
        "    if daysConsidered != 0 and total > 0:\n",
        "      df_diff.at[index,'avg_'+str(days)] = total / daysConsidered;\n",
        "\n",
        "\n",
        "pd.set_option('display.max_columns', 5)\n",
        "pd.set_option('display.max_rows', 1000)\n",
        "addAvgToDF(4);\n",
        "addAvgToDF(12);"
      ],
      "execution_count": null,
      "outputs": []
    },
    {
      "cell_type": "code",
      "metadata": {
        "id": "uKthQEPQEgcY"
      },
      "source": [
        "# Rename the date column:\n",
        "df_diff.rename(columns={'Date':'date_time'}, inplace=True)\n",
        "df_diff = df_diff.set_index('date_time')\n",
        "df_diff.head(60)"
      ],
      "execution_count": null,
      "outputs": []
    },
    {
      "cell_type": "markdown",
      "metadata": {
        "id": "VH_N9baELl1e"
      },
      "source": [
        "# Dealing with outliers by replace them with the average of previous 4 values at the same day of week:"
      ]
    },
    {
      "cell_type": "code",
      "metadata": {
        "id": "U0qbnowcsR70"
      },
      "source": [
        "df_diff['Total_Revenue'] = np.where(df_diff['outliers_filter']==False, df_diff['avg_4'], df_diff['Total_Revenue'])\n",
        "print(df_diff.head(60))"
      ],
      "execution_count": null,
      "outputs": []
    },
    {
      "cell_type": "markdown",
      "metadata": {
        "id": "gnOOsqVlnVFe"
      },
      "source": [
        "# Extract Cyclic features for day of month and day of week:"
      ]
    },
    {
      "cell_type": "code",
      "metadata": {
        "id": "gUDTSdFhAM26"
      },
      "source": [
        "df_diff['month_sin'] = np.sin((df_diff.month-1)*(2.*np.pi/12))\n",
        "df_diff['month_cos'] = np.cos((df_diff.month-1)*(2.*np.pi/12))\n",
        "df_diff['dayofweek_sin'] = np.sin((df_diff.dayofweek-1)*(2.*np.pi/7))\n",
        "df_diff['dayodweek_cos'] = np.cos((df_diff.dayofweek-1)*(2.*np.pi/7))"
      ],
      "execution_count": null,
      "outputs": []
    },
    {
      "cell_type": "markdown",
      "metadata": {
        "id": "bPeCom-vKA2z"
      },
      "source": [
        "# Extract Rolling Window Feature:"
      ]
    },
    {
      "cell_type": "code",
      "metadata": {
        "id": "0hW1ZvTHlauD"
      },
      "source": [
        "df['Rolling_7'] = df['Total_Revenue'].rolling(7, center=True).mean()"
      ],
      "execution_count": null,
      "outputs": []
    },
    {
      "cell_type": "markdown",
      "metadata": {
        "id": "92bQgjFpKM-U"
      },
      "source": [
        "# Extract Expanding Window Features:"
      ]
    },
    {
      "cell_type": "code",
      "metadata": {
        "id": "6Aqe_WcEkbE9"
      },
      "source": [
        "Rev = df_diff['Total_Revenue']\n",
        "window = Rev.expanding()\n",
        "dataframe = concat([window.min(), window.mean(), window.max(), Rev.shift(-1)], axis=1)\n",
        "dataframe.columns = ['min', 'mean', 'max', 't+1']\n",
        "print(dataframe.head())"
      ],
      "execution_count": null,
      "outputs": []
    },
    {
      "cell_type": "code",
      "metadata": {
        "id": "8Oyr99hJluz5"
      },
      "source": [
        "df = pd.concat([dataframe, df_diff], axis=1, join = 'inner')\n",
        "df = df.reset_index()\n",
        "pd.set_option('display.max_columns', 1000)\n",
        "print(df.head())"
      ],
      "execution_count": null,
      "outputs": []
    },
    {
      "cell_type": "markdown",
      "metadata": {
        "id": "qTO8LDaf2ypq"
      },
      "source": [
        "# Adding Weather features (meteorological):"
      ]
    },
    {
      "cell_type": "code",
      "metadata": {
        "id": "A6TPKxDe2ypt"
      },
      "source": [
        "# Install the package:\n",
        "!pip install wwo-hist\n",
        "# Import package\n",
        "from wwo_hist import retrieve_hist_data\n",
        "# Set working directory to store output csv file(s)\n",
        "import os\n",
        "os.chdir(\"/content\")"
      ],
      "execution_count": null,
      "outputs": []
    },
    {
      "cell_type": "code",
      "metadata": {
        "id": "s4GXE35k2yp2"
      },
      "source": [
        "# getting current date and time\n",
        "d = datetime.datetime.today()"
      ],
      "execution_count": null,
      "outputs": []
    },
    {
      "cell_type": "code",
      "metadata": {
        "id": "YoMbQ0N22yp8"
      },
      "source": [
        "frequency= 4    #I need the weather data to be each 4 hours\n",
        "start_date = '01-December-2017'\n",
        "end_date = d  # I want one year ahead\n",
        "api_key = 'd7c546c0659349f3a3b152037201301'\n",
        "location_list = ['G1R3J6']\n",
        "\n",
        "hist_weather_data = retrieve_hist_data(api_key,\n",
        "                                location_list,\n",
        "                                start_date,\n",
        "                                end_date,\n",
        "                                frequency,\n",
        "                                location_label = False,\n",
        "                                export_csv = True,\n",
        "                                store_df = True)"
      ],
      "execution_count": null,
      "outputs": []
    },
    {
      "cell_type": "code",
      "metadata": {
        "id": "iY3B7f_9nHHW"
      },
      "source": [
        "Weather=pd.read_csv('G1R3J6.csv')\n",
        "Weather.head(10)"
      ],
      "execution_count": null,
      "outputs": []
    },
    {
      "cell_type": "code",
      "metadata": {
        "id": "HyxPUbV4tG5T"
      },
      "source": [
        "# Keep only the Columns I need:\n",
        "Weather=Weather[['date_time', 'FeelsLikeC', 'cloudcover', 'totalSnow_cm', 'visibility', 'precipMM', 'windspeedKmph']]\n",
        "Weather['date_time'] = pd.to_datetime(Weather['date_time'], errors='coerce')\n",
        "Weather = Weather.set_index('date_time')\n",
        "print(Weather)"
      ],
      "execution_count": null,
      "outputs": []
    },
    {
      "cell_type": "code",
      "metadata": {
        "id": "AMAN8OgaaqL9"
      },
      "source": [
        "# I need only the rows which give the weather data for opening hours (9 - 21):\n",
        "Weather = Weather.between_time('09:00:00','21:00:00')\n",
        "# Aggregate the data by day with the following conditions:\n",
        "Weather = Weather.resample('D').agg({'totalSnow_cm':'max', 'FeelsLikeC':'mean', 'cloudcover':'mean', 'visibility': 'max', 'precipMM': 'max', 'windspeedKmph': 'mean'})\n",
        "print(Weather.head(10))"
      ],
      "execution_count": null,
      "outputs": []
    },
    {
      "cell_type": "code",
      "metadata": {
        "id": "Au6wUbYKUhvU"
      },
      "source": [
        "# Convert the weather data to categorical features:\n",
        "temp_bins = [-34, -17, 10, 22, 45]\n",
        "temp_labeles = ['frigid', 'cold', 'fine', 'hot']\n",
        "Weather['TempRange'] = pd.cut(Weather['FeelsLikeC'], bins=temp_bins, labels=temp_labeles)\n",
        "\n",
        "snow_bins = [-1, 3, 6, 15, 40]\n",
        "snow_labeles = ['no_snow', 'light_snow', 'heavy_snow', 'storm']\n",
        "Weather['SnowRange'] = pd.cut(Weather['totalSnow_cm'], bins=snow_bins, labels=snow_labeles)\n",
        "\n",
        "cloud_bins = [-1, 14, 48, 95, 101]\n",
        "cloud_labeles = ['sunny', 'partly sunny', 'cloudy', 'fog']\n",
        "Weather['CloudRange']= pd.cut(Weather['cloudcover'], bins=cloud_bins, labels=cloud_labeles)\n",
        "\n",
        "wind_bins = [0, 8, 15, 30, 40]\n",
        "wind_labeles = ['no_wind', 'breez', 'windy', 'stormy']\n",
        "\n",
        "Weather['WindRange']= pd.cut(Weather['windspeedKmph'], bins=wind_bins, labels=wind_labeles)\n",
        "Weather = Weather.reset_index()\n",
        "print(Weather.head())"
      ],
      "execution_count": null,
      "outputs": []
    },
    {
      "cell_type": "code",
      "metadata": {
        "id": "oERgUbdOK9cx"
      },
      "source": [
        "for index, row in Weather.head(len(Weather)).iterrows():\n",
        "  if Weather.iloc[index][\"TempRange\"] == 'frigid' or Weather.iloc[index]['WindRange'] == 'stormy' and Weather.iloc[index]['CloudRange'] == 'fog':\n",
        "    Weather.at[index,'weather'] = \"frigid\"\n",
        "  elif Weather.iloc[index]['SnowRange'] == 'storm' or (Weather.iloc[index]['visibility'] >=10 and Weather.iloc[index]['SnowRange'] == 'heavy_snow') or (Weather.iloc[index]['precipMM'] >= 4 and Weather.iloc[index]['SnowRange']=='heavy_snow') or (Weather.iloc[index][\"TempRange\"] == 'frigid' and Weather.iloc[index][\"visibility\"] >= 10):\n",
        "   Weather.at[index,'weather'] = \"Storm\"\n",
        "  elif Weather.iloc[index][\"precipMM\"] >=7:\n",
        "    Weather.at[index,'weather'] = \"Rainy_day\"\n",
        "  elif Weather.iloc[index][\"WindRange\"] == 'stormy':\n",
        "    Weather.at[index,'weather'] = \"windy\"\n",
        "  elif (Weather.iloc[index]['TempRange'] == 'hot') or (Weather.iloc[index]['TempRange'] == 'hot' and Weather.iloc[index]['WindRange'] == 'no_wind' and Weather.iloc[index]['CloudRange'] == 'sunny'):\n",
        "    Weather.at[index,'weather'] = 'canicular day'\n",
        "  else:\n",
        "    Weather.at[index,'weather'] = \"nice_weather\"\n",
        "\n",
        "print(Weather)\n"
      ],
      "execution_count": null,
      "outputs": []
    },
    {
      "cell_type": "code",
      "metadata": {
        "id": "8UYtKTZPGUB3"
      },
      "source": [
        "# Add the new weather features to the main dataframe\n",
        "features = pd.concat([df.set_index('date_time'),Weather.set_index('date_time')], axis=1, join='inner').reset_index()"
      ],
      "execution_count": null,
      "outputs": []
    },
    {
      "cell_type": "markdown",
      "metadata": {
        "id": "CWT3aHKFZnk2"
      },
      "source": [
        "# Adding Holiday features:"
      ]
    },
    {
      "cell_type": "code",
      "metadata": {
        "id": "qyxzwygFZscS"
      },
      "source": [
        "QC_holidays = holidays.CountryHoliday('CA', prov='QC')\n",
        "for date, name in sorted(holidays.CA(state='QC', years=[2017, 2018, 2019]).items()):\n",
        "  print(date, name)"
      ],
      "execution_count": null,
      "outputs": []
    },
    {
      "cell_type": "code",
      "metadata": {
        "id": "4D0efqE6fiQW"
      },
      "source": [
        "Satutory_holidays = pd.DataFrame({\n",
        "  'holiday': 'Yes',\n",
        "  'date_time': pd.to_datetime(['2017-09-04', '2017-10-09', '2017-11-25', '2017-12-25', '2017-12-26',\n",
        "                        '2018-01-01', '2018-02-19', '2018-03-30', '2018-05-21',\n",
        "                        '2018-07-01', '2018-08-06', '2018-09-03', '2018-10-08', '2018-12-24',\n",
        "                        '2018-12-25', '2018-12-26', '2019-01-01', '2019-02-18', '2019-04-19',\n",
        "                        '2019-05-20', '2019-07-01', '2019-08-05', '2019-09-02',\n",
        "                        '2019-10-14', '2019-12-24', '2019-12-25', '2019-12-26'])})"
      ],
      "execution_count": null,
      "outputs": []
    },
    {
      "cell_type": "code",
      "metadata": {
        "id": "3r_K1NSZSGvX"
      },
      "source": [
        "# Add the new holiday feature to the main dataframe\n",
        "df = features.merge(Satutory_holidays, how='left', left_on='date_time', right_on='date_time')\n",
        "\n",
        "# Now I want that a column displays when there is a holiday or not with (\"1\" or \"0\"). So I did the following:\n",
        "df['holiday'].replace(['Yes'],[1],inplace=True)\n",
        "df['holiday'].replace([float('nan')],[0],inplace=True)\n",
        "\n",
        "print(df.head())"
      ],
      "execution_count": null,
      "outputs": []
    },
    {
      "cell_type": "markdown",
      "metadata": {
        "id": "de39erlViQAP"
      },
      "source": [
        "# Lag Features\n",
        "\n",
        "Lag features are the classical way that time series forecasting problems are transformed into supervised learning problems.\n",
        "\n",
        "The simplest approach is to predict the value at the next time (t+1) given the value at the previous time (t-1). \n",
        "As I need to redict the next 14 value of only one variable (total_revenue) so that I will shift only this cloumn."
      ]
    },
    {
      "cell_type": "code",
      "metadata": {
        "id": "ls4fjf6yQcWe"
      },
      "source": [
        "df = df.drop(['month', 'dayofweek', 'dayofweek_name', 'outliers_filter', 'FeelsLikeC', 'cloudcover', 'totalSnow_cm',\n",
        "       'visibility', 'precipMM', 'windspeedKmph', 'TempRange', 'SnowRange',\n",
        "       'CloudRange', 'WindRange'], axis=1)\n",
        "df.head(30)"
      ],
      "execution_count": null,
      "outputs": []
    },
    {
      "cell_type": "code",
      "metadata": {
        "id": "Js9UG5M-iTRo"
      },
      "source": [
        "df_laged = pd.concat([df, df['Total_Revenue'].shift(7)], axis=1)\n",
        "df_laged = df_laged.set_index('date_time')\n",
        "df_laged.columns"
      ],
      "execution_count": null,
      "outputs": []
    },
    {
      "cell_type": "code",
      "metadata": {
        "id": "-liZaet2RO-4"
      },
      "source": [
        "df_laged.columns = ['min', 'mean', 'max', 't+1', 'Revenue', 'avg_4weeks',\n",
        "       'avg_12weeks', 'm_sin', 'm_cos', 'dow_sin',\n",
        "       'dow_cos', 'Rolling_7', 'weather', 'holiday', 'lag_7']\n",
        "print(df_laged.head())"
      ],
      "execution_count": null,
      "outputs": []
    },
    {
      "cell_type": "code",
      "metadata": {
        "id": "yjO3eGilP_RE"
      },
      "source": [
        "df_laged['Revenue'][:300].plot(marker = \"^\")"
      ],
      "execution_count": null,
      "outputs": []
    },
    {
      "cell_type": "code",
      "metadata": {
        "id": "DZCQwTFGzaqn"
      },
      "source": [
        "# Drop the NaN rows:\n",
        "df_laged = df_laged.dropna(how='any')\n",
        "df_laged.head(10)"
      ],
      "execution_count": null,
      "outputs": []
    },
    {
      "cell_type": "markdown",
      "metadata": {
        "id": "6PccXvLsNPcb"
      },
      "source": [
        "# Hot coding for weather feature:"
      ]
    },
    {
      "cell_type": "code",
      "metadata": {
        "id": "Vt7VoRPILcUE"
      },
      "source": [
        "dummy = pd.get_dummies(df_laged['weather'])\n",
        "df = pd.concat([df_laged, dummy], axis=1)\n",
        "df = df.drop(['weather'], axis=1)\n",
        "df.head()"
      ],
      "execution_count": null,
      "outputs": []
    },
    {
      "cell_type": "markdown",
      "metadata": {
        "id": "wZUmuHUbNBaD"
      },
      "source": [
        "# Studing feature importance:"
      ]
    },
    {
      "cell_type": "code",
      "metadata": {
        "id": "aViIjr6E363y"
      },
      "source": [
        "f, ax = plt.subplots(figsize = (18, 10))\n",
        "sns.heatmap(df_laged.corr(),ax = ax, annot=True, cmap=sns.diverging_palette(10, 133, as_cmap=True), linewidths=0.5)"
      ],
      "execution_count": null,
      "outputs": []
    },
    {
      "cell_type": "code",
      "metadata": {
        "id": "_azSNPMaHHgQ"
      },
      "source": [
        "# df = df[['Revenue', 'dow_sin', 'lag_7', 'Rainy_day',\t'Storm',\t'canicular day',\t'frigid',\t'nice_weather', 'holiday']]"
      ],
      "execution_count": null,
      "outputs": []
    },
    {
      "cell_type": "markdown",
      "metadata": {
        "id": "crwUwyGXNXNT"
      },
      "source": [
        "# Studing data distribution:"
      ]
    },
    {
      "cell_type": "code",
      "metadata": {
        "id": "yrhaTyH2Dma2"
      },
      "source": [
        "df['Revenue'].hist(bins=20, figsize=(10,5))\n",
        "plt.show()"
      ],
      "execution_count": null,
      "outputs": []
    },
    {
      "cell_type": "markdown",
      "metadata": {
        "id": "L0d32MyNNkDg"
      },
      "source": [
        "# Splitting the data into training, validation and testing:"
      ]
    },
    {
      "cell_type": "code",
      "metadata": {
        "id": "pWACJxCzK2qY"
      },
      "source": [
        "# I will always keep the last two months of the dataset for testing my model (60 days)\n",
        "df_test = df[-60:]\n",
        "dataTestX = df_test.drop(['Revenue'], axis=1)\n",
        "dataTestX = np.array(dataTestX) # convert to numpy array :\n",
        "\n",
        "dataTestY = df_test['Revenue'].values\n",
        "df_train = df[:-60]\n",
        "dataX = df_train.drop(['Revenue'], axis=1).as_matrix()\n",
        "dataY = df_train[['Revenue']].values"
      ],
      "execution_count": null,
      "outputs": []
    },
    {
      "cell_type": "code",
      "metadata": {
        "id": "UfaBMuC2giN2"
      },
      "source": [
        "y_mean = dataY.mean()\n",
        "# y_std = np.sqrt(dataY.std())\n",
        "y_std = 1.02"
      ],
      "execution_count": null,
      "outputs": []
    },
    {
      "cell_type": "code",
      "metadata": {
        "id": "OP60iZi4VWpL"
      },
      "source": [
        "y_mean"
      ],
      "execution_count": null,
      "outputs": []
    },
    {
      "cell_type": "code",
      "metadata": {
        "id": "YS8o9BgJiPVI"
      },
      "source": [
        "y_std"
      ],
      "execution_count": null,
      "outputs": []
    },
    {
      "cell_type": "code",
      "metadata": {
        "id": "V2nRyl59g3Xt"
      },
      "source": [
        "dataYTouse = (dataY-y_mean)/y_std"
      ],
      "execution_count": null,
      "outputs": []
    },
    {
      "cell_type": "code",
      "metadata": {
        "id": "KbnuCVNYid2e"
      },
      "source": [
        "print(max(dataYTouse) - min(dataYTouse))"
      ],
      "execution_count": null,
      "outputs": []
    },
    {
      "cell_type": "markdown",
      "metadata": {
        "id": "yTitK4oTOU4x"
      },
      "source": [
        "# Applying the model after normalizing the data:"
      ]
    },
    {
      "cell_type": "code",
      "metadata": {
        "id": "kV83WPGLEn_J"
      },
      "source": [
        "from math import sqrt\n",
        "from sklearn.metrics import mean_squared_error\n",
        "SC = MinMaxScaler(feature_range=(0, 1))\n",
        "tscv = TimeSeriesSplit(max_train_size=None, n_splits=21)\n",
        "model = SGDRegressor(random_state=1, warm_start= True, early_stopping =True, alpha=0.001, penalty=\"l1\", max_iter=1000, tol=0.001, eta0=0.1, power_t=0.264, n_iter_no_change= 15)\n",
        "\n",
        "def sample(df):\n",
        "  index = 1\n",
        "  for train_index, valid_index in tscv.split(dataX):\n",
        "    print(\"TRAIN:\", len(train_index), \"VALID:\", len(valid_index))\n",
        "\n",
        "    dataTrainX, datavalidX = dataX[train_index], dataX[valid_index]\n",
        "    dataTrainY, datavalidY = dataYTouse[train_index], dataYTouse[valid_index]\n",
        "    \n",
        "    dataTrainX_scalled = SC.fit_transform(dataTrainX) # fit only on train\n",
        "    dataTestX_scalled = SC.transform(dataTestX)\n",
        "    datavalidX_scalled = SC.transform(datavalidX)\n",
        " \n",
        "    model.fit(dataTrainX_scalled, dataTrainY.ravel())\n",
        "    y_hat = model.predict(datavalidX_scalled)\n",
        "    mae = mean_absolute_error((datavalidY+y_mean)*y_std, (y_hat+y_mean)*y_std)\n",
        "    print('mae = {:0.1f}'.format(mae))\n",
        "    mase = sqrt(mean_squared_error((datavalidY+y_mean)*y_std, (y_hat+y_mean)*y_std))\n",
        "    print('mase = {:0.1f}'.format(mase))\n",
        "\n",
        "  return dataTrainX_scalled, dataTrainY, dataTestX_scalled, dataTestY\n",
        "\n",
        "dataTrainX_scalled, dataTrainY, dataTestX_scalled, dataTestY = sample(df)\n",
        "\n",
        "model.fit(dataTrainX_scalled, dataTrainY)\n",
        "\n",
        "predicted = (model.predict(dataTestX_scalled)+y_mean)*y_std\n",
        "\n",
        "results = pd.DataFrame({'Revenues':dataTestY[-90:], 'y_hat':predicted[-90:]})\n",
        "print(results)\n",
        "dfTestWithIndex = df_test.reset_index()\n",
        "df_results = pd.concat([results, dfTestWithIndex], axis=1).set_index('date_time')\n",
        "df_results = df_results.drop(['Revenue'], axis=1)\n",
        "\n",
        "abs_errors = abs(dataTestY - predicted)\n",
        "MAPE = (abs_errors / dataTestY) * 100\n",
        "df_results['MAPE']= MAPE\n",
        "print(df_results.tail(60))\n",
        "\n",
        "fig = plt.figure()\n",
        "plt.plot(results['Revenues'][-90:], 'Red')\n",
        "plt.plot(results['y_hat'][-90:], 'Blue')\n",
        "print('Mean Absolute Error on testing dataset = {:0.1f}'.format(mean_absolute_error(dataTestY, predicted)))\n",
        "print('Root Mean Square Error on testing dataset = {:0.1f}'.format(sqrt(mean_squared_error(dataTestY, predicted))))"
      ],
      "execution_count": null,
      "outputs": []
    },
    {
      "cell_type": "code",
      "metadata": {
        "id": "mwIESzbSiJgM"
      },
      "source": [
        ""
      ],
      "execution_count": null,
      "outputs": []
    }
  ]
}